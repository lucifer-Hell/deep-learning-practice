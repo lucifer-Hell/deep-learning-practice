{
 "cells": [
  {
   "cell_type": "code",
   "execution_count": null,
   "id": "70cee770",
   "metadata": {},
   "outputs": [],
   "source": [
    "%pip install numpy"
   ]
  },
  {
   "cell_type": "code",
   "execution_count": null,
   "id": "da971683",
   "metadata": {},
   "outputs": [],
   "source": [
    "# ALL IMPORTS HERE \n",
    "import numpy as np\n"
   ]
  },
  {
   "cell_type": "markdown",
   "id": "ced92fa6",
   "metadata": {},
   "source": [
    "This file contains one layer neural network which demonstrates detection of cat .\n",
    "\n",
    "For starters we will need to define few things , \n",
    "we need a  neural net which has forward propoagtion and backward propogation , dataset of images of cat and non cat , fucntion to train and test "
   ]
  },
  {
   "cell_type": "markdown",
   "id": "b9607a93",
   "metadata": {},
   "source": [
    "Defining a neural net , we will need few things , \n",
    "for forward propogation we need a simple function for linear transformation z= w.Tx+b , activation function a = sig(z)  , cost function = binary entropy\n",
    "for backward propogatoin we need  diff of above to so that we could update our wts and biases "
   ]
  },
  {
   "cell_type": "markdown",
   "id": "0e607bb3",
   "metadata": {},
   "source": [
    "# DEFINING FUNCTIONS"
   ]
  },
  {
   "cell_type": "code",
   "execution_count": null,
   "id": "cf95c51e",
   "metadata": {},
   "outputs": [],
   "source": [
    "# Defining z function\n",
    "\n",
    "def calc_z(w,x,b):\n",
    "    return np.dot(w.T,x) + b\n",
    "\n",
    "# Defining activation function ( here sigmoid )\n",
    "\n",
    "def sig(z):\n",
    "    return 1 / (1 + np.exp(-z))\n",
    "\n",
    "# Defining cost function (here binary entropy )\n",
    "\n",
    "def calc_loss(y,y_hat):\n",
    "    # THIS FUNCTION IS BCE (BINARY CROSS ENTROY ) \n",
    "    # the main idea behind this function is to penalize \n",
    "    # large differences between the actual vs derivde value\n",
    "\n",
    "    eps=1e-12 # 10^(-12) a small constant to avoid 0 inside log value\n",
    "    return - np.mean( y* np.log(y_hat + eps) + (1-y) * np.log(1-y_hat+ eps))\n",
    "\n",
    "# Calculating forward propogatin\n",
    "\n",
    "def forward_prop (w,x,b):\n",
    "    z= calc_z(w,x,b)\n",
    "    a= sig(z)\n",
    "    return a\n",
    "\n",
    "def backward_prop(w,x,b,y_hat,y):\n",
    "    output_diff=y_hat-y\n",
    "    return output_diff*x , output_diff\n",
    "\n",
    "def train(w,x,b,y,learning_rate):\n",
    "    y_hat = forward_prop(w,x,b)\n",
    "    loss = calc_loss(y,y_hat)\n",
    "    print('loss currently ',loss)\n",
    "    dw , db = backward_prop(w,x,b,y_hat,y)\n",
    "    w= w - learning_rate*dw\n",
    "    b= b - learning_rate*db\n",
    "    return w ,b\n",
    "\n",
    "def test(w,x,b):\n",
    "    return 1 if forward_prop(w,x,b) > 0.5 else 0"
   ]
  },
  {
   "cell_type": "markdown",
   "id": "d0621b30",
   "metadata": {},
   "source": [
    "Now we need a dataset we will use inner circle function to generate x and y"
   ]
  },
  {
   "cell_type": "markdown",
   "id": "9a33b523",
   "metadata": {},
   "source": [
    "NOW SINCE WE HAVE ALL THE FUNCTIONS DEFINED LETS START WITH DOING TRAIN AND TESTS , FOR STARTERS LETS START WITH SOME SIMPLE FUNCTIONS"
   ]
  },
  {
   "cell_type": "code",
   "execution_count": null,
   "id": "7e051a6e",
   "metadata": {},
   "outputs": [],
   "source": [
    "# define 500 values of input and output whether points and are in circle x1 and x2 and y \n",
    "# function : y :  (x1^2 + x2^2 )> 1 then 1 else 0  \n",
    "ex_no = 499\n",
    "\n",
    "np.random.seed(42)\n",
    "\n",
    "x = np.random.rand(2,500)\n",
    "print(x[:,ex_no])\n",
    "\n",
    "y = np.random.choice(a=[0,1],size=(1,500))\n",
    "print(y[:,ex_no])\n",
    "\n",
    "w = np.random.rand(2,1)\n",
    "b = np.random.rand(1,1)\n",
    "\n",
    "# lets iterate for each example and test our forward prop \n",
    "for i in range(x.shape[1]) : \n",
    "    print(f\" example {i+1} : {x[:,i]} \")\n",
    "    train(w,x[:,i],b,y[:,i])\n"
   ]
  }
 ],
 "metadata": {
  "kernelspec": {
   "display_name": ".venv",
   "language": "python",
   "name": "python3"
  },
  "language_info": {
   "codemirror_mode": {
    "name": "ipython",
    "version": 3
   },
   "file_extension": ".py",
   "mimetype": "text/x-python",
   "name": "python",
   "nbconvert_exporter": "python",
   "pygments_lexer": "ipython3",
   "version": "3.13.2"
  }
 },
 "nbformat": 4,
 "nbformat_minor": 5
}
